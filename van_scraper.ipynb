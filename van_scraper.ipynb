{
 "cells": [
  {
   "cell_type": "code",
   "execution_count": 1,
   "metadata": {},
   "outputs": [],
   "source": [
    "# Import dependencies\n",
    "from requests import get\n",
    "from bs4 import BeautifulSoup\n",
    "import pandas as pd\n",
    "from time import sleep\n",
    "from random import randint"
   ]
  },
  {
   "cell_type": "code",
   "execution_count": 2,
   "metadata": {},
   "outputs": [],
   "source": [
    "# Areas to look for vans\n",
    "areas = ['seattle', 'portland', 'boulder', 'denver']\n",
    "# Min and Max Price\n",
    "price_min = 10000\n",
    "price_max = 40000\n",
    "# Keywords in search\n",
    "search_keywords = 'promaster+high+roof'\n",
    "# Max Milage for van\n",
    "milage = 150000\n",
    "# We are only looking for CLEAN titles\n",
    "title = 1\n",
    "# Dictionary of vans key will be the Vin\n",
    "van_list = dict()"
   ]
  },
  {
   "cell_type": "code",
   "execution_count": 7,
   "metadata": {},
   "outputs": [
    {
     "name": "stdout",
     "output_type": "stream",
     "text": [
      "https://seattle.craigslist.org/search/cta?query=promaster+high+roof&sort=rel&min_price=10000&max_price=40000&max_auto_miles=150000&auto_title_status=1\n"
     ]
    }
   ],
   "source": [
    "print(\"https://\" \n",
    "          + areas[0] + \n",
    "          \".craigslist.org/search/cta?query=\"\n",
    "          + search_keywords +\n",
    "          \"&sort=rel&min_price=\"\n",
    "          + str(price_min) +\n",
    "          \"&max_price=\" \n",
    "          + str(price_max) +\n",
    "          \"&max_auto_miles=\" \n",
    "          + str(milage) +\n",
    "          \"&auto_title_status=1\")"
   ]
  },
  {
   "cell_type": "code",
   "execution_count": 8,
   "metadata": {},
   "outputs": [],
   "source": [
    "seattle_URL = 'https://{}.craigslist.org/search/cta?query={}&sort=rel&min_price={}&max_price={}&max_auto_miles={}&auto_title_status=1'.format(areas[0], search_keywords, price_min, price_max, milage, title)\n",
    "seattle_response = get(seattle_URL)\n",
    "soup = BeautifulSoup(seattle_response.text, 'html.parser')\n",
    "posts = soup.find_all('li', class_= 'result-row')"
   ]
  },
  {
   "cell_type": "code",
   "execution_count": 9,
   "metadata": {},
   "outputs": [
    {
     "data": {
      "text/plain": [
       "'https://seattle.craigslist.org/search/cta?query=promaster+high+roof&sort=rel&min_price=10000&max_price=40000&max_auto_miles=150000&auto_title_status=1'"
      ]
     },
     "execution_count": 9,
     "metadata": {},
     "output_type": "execute_result"
    }
   ],
   "source": [
    "seattle_URL"
   ]
  },
  {
   "cell_type": "code",
   "execution_count": 10,
   "metadata": {},
   "outputs": [
    {
     "data": {
      "text/plain": [
       "<li class=\"result-row\" data-pid=\"7254580143\">\n",
       "<a class=\"result-image gallery\" data-ids=\"3:00F0F_3oKNHyNWUvUz_0ak07E,3:00J0J_j1TWsTmWwoNz_0ak088,3:00202_i9zr7NGrTvJz_0ak08B,3:00101_4m5UtVcoRs8z_0ak08w,3:00j0j_2zhgr2WIsBuz_0ak07U\" href=\"https://seattle.craigslist.org/tac/ctd/d/tacoma-2019-ram-promaster-cargo-van/7254580143.html\">\n",
       "<span class=\"result-price\">$38,593</span>\n",
       "</a>\n",
       "<div class=\"result-info\">\n",
       "<span class=\"icon icon-star\" role=\"button\">\n",
       "<span class=\"screen-reader-text\">favorite this post</span>\n",
       "</span>\n",
       "<time class=\"result-date\" datetime=\"2020-12-30 11:05\" title=\"Wed 30 Dec 11:05:48 AM\">Dec 30</time>\n",
       "<h3 class=\"result-heading\">\n",
       "<a class=\"result-title hdrlnk\" data-id=\"7254580143\" href=\"https://seattle.craigslist.org/tac/ctd/d/tacoma-2019-ram-promaster-cargo-van/7254580143.html\" id=\"postid_7254580143\">2019 Ram ProMaster Cargo Van High Roof Van ProMaster Cargo Van Ram</a>\n",
       "</h3>\n",
       "<span class=\"result-meta\">\n",
       "<span class=\"result-price\">$38,593</span>\n",
       "<span class=\"result-hood\"> (2019 Ram ProMaster Cargo Van High Roof)</span>\n",
       "<span class=\"result-tags\">\n",
       "<span class=\"pictag\">pic</span>\n",
       "</span>\n",
       "<span class=\"banish icon icon-trash\" role=\"button\">\n",
       "<span class=\"screen-reader-text\">hide this posting</span>\n",
       "</span>\n",
       "<span aria-hidden=\"true\" class=\"unbanish icon icon-trash red\" role=\"button\"></span>\n",
       "<a class=\"restore-link\" href=\"#\">\n",
       "<span class=\"restore-narrow-text\">restore</span>\n",
       "<span class=\"restore-wide-text\">restore this posting</span>\n",
       "</a>\n",
       "</span>\n",
       "</div>\n",
       "</li>"
      ]
     },
     "execution_count": 10,
     "metadata": {},
     "output_type": "execute_result"
    }
   ],
   "source": [
    "posts[0]"
   ]
  },
  {
   "cell_type": "code",
   "execution_count": 11,
   "metadata": {},
   "outputs": [
    {
     "name": "stdout",
     "output_type": "stream",
     "text": [
      "https://seattle.craigslist.org/tac/ctd/d/tacoma-2019-ram-promaster-cargo-van/7254580143.html\n",
      "2019 Ram ProMaster Cargo Van High Roof Van ProMaster Cargo Van Ram\n",
      "$38,593\n"
     ]
    }
   ],
   "source": [
    "for post in posts:\n",
    "    post_url = post.a['href']\n",
    "    post_title = post.find('a', class_='result-title hdrlnk')\n",
    "    post_price = post.find('span', class_='result-price')\n",
    "    print(post_url.strip())\n",
    "    print(post_title.text.strip())\n",
    "    print(post_price.text.strip())\n",
    "    break\n",
    "    "
   ]
  },
  {
   "cell_type": "code",
   "execution_count": 12,
   "metadata": {},
   "outputs": [
    {
     "name": "stdout",
     "output_type": "stream",
     "text": [
      "[{'price': '$38,993', 'odometer': '26144', 'vin': '3C6TRVDG3KE535493', 'web address': 'https://seattle.craigslist.org/tac/ctd/d/tacoma-2019-ram-promaster-cargo-van/7254537267.html', 'city': 'Seattle', 'color': 'white'}, {'price': '$38,993', 'odometer': '26144', 'vin': '3C6TRVDG3KE535493', 'web address': 'https://seattle.craigslist.org/tac/ctd/d/tacoma-2019-ram-promaster-cargo-van/7254537267.html', 'city': 'Seattle', 'color': 'white'}]\n",
      "['$38,593', '$38,993'] ['32701', '26144'] ['3C6TRVDG8KE512355', '3C6TRVDG3KE535493'] ['https://seattle.craigslist.org/tac/ctd/d/tacoma-2019-ram-promaster-cargo-van/7254580143.html', 'https://seattle.craigslist.org/tac/ctd/d/tacoma-2019-ram-promaster-cargo-van/7254537267.html'] ['Seattle', 'Seattle'] ['white', 'white']\n"
     ]
    }
   ],
   "source": [
    "j = 0\n",
    "list_of_vans = []\n",
    "van_attr = dict()\n",
    "price = []\n",
    "odometer = []\n",
    "vin = []\n",
    "web_address = []\n",
    "city = []\n",
    "color = []\n",
    "key_attr = ['price','odometer', 'vin', 'web address', 'city', 'color']\n",
    "for i in key_attr:\n",
    "    van_attr[i] = None\n",
    "for post in posts:\n",
    "    post_url = post.a['href']\n",
    "    van_page = get(post_url)\n",
    "    van_soup = BeautifulSoup(van_page.text, 'html.parser')\n",
    "    van_data = van_soup.find_all('span', {'class' : None})\n",
    "    for data in van_data:\n",
    "        if data.text.split(':')[0].strip() == 'VIN':\n",
    "            van_attr['vin'] = data.text.split(':')[1].strip()\n",
    "            vin.append(data.text.split(':')[1].strip())\n",
    "        if data.text.split(':')[0].strip() == 'odometer':\n",
    "                van_attr['odometer'] = data.text.split(':')[1].strip()\n",
    "                odometer.append(data.text.split(':')[1].strip())\n",
    "        if data.text.split(':')[0].strip() == 'paint color':\n",
    "            van_attr['color'] = data.text.split(':')[1].strip()\n",
    "            color.append(data.text.split(':')[1].strip())\n",
    "    van_attr['web address'] = post_url\n",
    "    web_address.append(post_url)\n",
    "    van_attr['price'] = post.find('span', class_='result-price').text.strip()\n",
    "    price.append(post.find('span', class_='result-price').text.strip())\n",
    "    van_attr['city'] = 'Seattle'\n",
    "    city.append('Seattle')\n",
    "    list_of_vans.append(van_attr)\n",
    "    j += 1\n",
    "    if j == 2:\n",
    "        break\n",
    "print(list_of_vans)\n",
    "print(price, odometer, vin, web_address, city, color)"
   ]
  },
  {
   "cell_type": "code",
   "execution_count": 26,
   "metadata": {},
   "outputs": [],
   "source": [
    "# Should take <7 min to run\n",
    "# Areas to look for vans\n",
    "areas = ['seattle', 'portland', 'boulder', 'denver']\n",
    "# Min and Max Price\n",
    "price_min = 10000\n",
    "price_max = 40000\n",
    "# Keywords in search\n",
    "search_keywords = 'promaster+high+roof'\n",
    "# Max Milage for van\n",
    "milage = 150000\n",
    "# We are only looking for CLEAN titles\n",
    "title = 1\n",
    "\n",
    "van_attr = dict()\n",
    "list_of_vans = []\n",
    "price = []\n",
    "odometer = []\n",
    "vin = []\n",
    "web_address = []\n",
    "city = []\n",
    "color = []\n",
    "\n",
    "for area in areas:\n",
    "    response = get('https://'\n",
    "                + area +\n",
    "                '.craigslist.org/search/cta?query='\n",
    "                + search_keywords +\n",
    "                '&sort=rel&min_price='\n",
    "                + str(price_min) +\n",
    "                '&max_price='\n",
    "                + str(price_max) +\n",
    "                '&max_auto_miles='\n",
    "                + str(milage) +\n",
    "                '&auto_title_status=1')\n",
    "    \n",
    "    # sleep for 1 - 5 seconds to prevent errors\n",
    "    sleep(randint(1,5))\n",
    "    \n",
    "    #throw warning for status codes that are not 200\n",
    "    if response.status_code != 200:\n",
    "        warn('Request: {}; Status code: {}'.format(requests, response.status_code))\n",
    "    \n",
    "    # read response with BeautifulSoup\n",
    "    home_page_soup = BeautifulSoup(response.text, 'html.parser')\n",
    "    \n",
    "    # from homepage get the individual posts\n",
    "    posts = home_page_soup.find_all('li', class_= 'result-row')\n",
    "    \n",
    "    for post in posts:\n",
    "        post_url = post.a['href']\n",
    "        van_page = get(post_url)\n",
    "\n",
    "        # sleep for 1 - 5 seconds to prevent errors\n",
    "        sleep(randint(1,5))\n",
    "        \n",
    "        van_soup = BeautifulSoup(van_page.text, 'html.parser')\n",
    "        van_data = van_soup.find_all('span', {'class' : None})\n",
    "        no_vin = 0\n",
    "        no_color = 0\n",
    "        no_odometer = 0\n",
    "        for data in van_data:\n",
    "            if data.text.split(':')[0].strip() == 'VIN':\n",
    "                van_attr['vin'] = data.text.split(':')[1].strip()\n",
    "                vin.append(data.text.split(':')[1].strip())\n",
    "                no_vin = 1\n",
    "            if data.text.split(':')[0].strip() == 'odometer':\n",
    "                van_attr['odometer'] = data.text.split(':')[1].strip()\n",
    "                odometer.append(data.text.split(':')[1].strip())\n",
    "                no_odometer = 1\n",
    "            if data.text.split(':')[0].strip() == 'paint color':\n",
    "                van_attr['color'] = data.text.split(':')[1].strip()\n",
    "                color.append(data.text.split(':')[1].strip())\n",
    "                no_color = 1\n",
    "        if no_vin == 0:\n",
    "            vin.append(None)\n",
    "        if no_odometer == 0:\n",
    "            odometer.append(None)\n",
    "        if no_color == 0:\n",
    "            color.append('no color')\n",
    "        van_attr['web address'] = post_url\n",
    "        web_address.append(post_url)\n",
    "        van_attr['price'] = post.find('span', class_='result-price').text.strip()\n",
    "        price.append(post.find('span', class_='result-price').text.strip())\n",
    "        van_attr['city'] = area\n",
    "        city.append(area)\n",
    "        list_of_vans.append(van_attr)"
   ]
  },
  {
   "cell_type": "code",
   "execution_count": 27,
   "metadata": {},
   "outputs": [
    {
     "name": "stdout",
     "output_type": "stream",
     "text": [
      "[{'vin': '1GDKC34J7YF421500', 'odometer': '46457', 'color': 'white', 'web address': 'https://denver.craigslist.org/ctd/d/gardena-2000-gmc-sierra-3500-chevy/7239948479.html', 'price': '$19,500', 'city': 'denver'}, {'vin': '1GDKC34J7YF421500', 'odometer': '46457', 'color': 'white', 'web address': 'https://denver.craigslist.org/ctd/d/gardena-2000-gmc-sierra-3500-chevy/7239948479.html', 'price': '$19,500', 'city': 'denver'}, {'vin': '1GDKC34J7YF421500', 'odometer': '46457', 'color': 'white', 'web address': 'https://denver.craigslist.org/ctd/d/gardena-2000-gmc-sierra-3500-chevy/7239948479.html', 'price': '$19,500', 'city': 'denver'}, {'vin': '1GDKC34J7YF421500', 'odometer': '46457', 'color': 'white', 'web address': 'https://denver.craigslist.org/ctd/d/gardena-2000-gmc-sierra-3500-chevy/7239948479.html', 'price': '$19,500', 'city': 'denver'}, {'vin': '1GDKC34J7YF421500', 'odometer': '46457', 'color': 'white', 'web address': 'https://denver.craigslist.org/ctd/d/gardena-2000-gmc-sierra-3500-chevy/7239948479.html', 'price': '$19,500', 'city': 'denver'}, {'vin': '1GDKC34J7YF421500', 'odometer': '46457', 'color': 'white', 'web address': 'https://denver.craigslist.org/ctd/d/gardena-2000-gmc-sierra-3500-chevy/7239948479.html', 'price': '$19,500', 'city': 'denver'}, {'vin': '1GDKC34J7YF421500', 'odometer': '46457', 'color': 'white', 'web address': 'https://denver.craigslist.org/ctd/d/gardena-2000-gmc-sierra-3500-chevy/7239948479.html', 'price': '$19,500', 'city': 'denver'}, {'vin': '1GDKC34J7YF421500', 'odometer': '46457', 'color': 'white', 'web address': 'https://denver.craigslist.org/ctd/d/gardena-2000-gmc-sierra-3500-chevy/7239948479.html', 'price': '$19,500', 'city': 'denver'}, {'vin': '1GDKC34J7YF421500', 'odometer': '46457', 'color': 'white', 'web address': 'https://denver.craigslist.org/ctd/d/gardena-2000-gmc-sierra-3500-chevy/7239948479.html', 'price': '$19,500', 'city': 'denver'}, {'vin': '1GDKC34J7YF421500', 'odometer': '46457', 'color': 'white', 'web address': 'https://denver.craigslist.org/ctd/d/gardena-2000-gmc-sierra-3500-chevy/7239948479.html', 'price': '$19,500', 'city': 'denver'}, {'vin': '1GDKC34J7YF421500', 'odometer': '46457', 'color': 'white', 'web address': 'https://denver.craigslist.org/ctd/d/gardena-2000-gmc-sierra-3500-chevy/7239948479.html', 'price': '$19,500', 'city': 'denver'}, {'vin': '1GDKC34J7YF421500', 'odometer': '46457', 'color': 'white', 'web address': 'https://denver.craigslist.org/ctd/d/gardena-2000-gmc-sierra-3500-chevy/7239948479.html', 'price': '$19,500', 'city': 'denver'}, {'vin': '1GDKC34J7YF421500', 'odometer': '46457', 'color': 'white', 'web address': 'https://denver.craigslist.org/ctd/d/gardena-2000-gmc-sierra-3500-chevy/7239948479.html', 'price': '$19,500', 'city': 'denver'}, {'vin': '1GDKC34J7YF421500', 'odometer': '46457', 'color': 'white', 'web address': 'https://denver.craigslist.org/ctd/d/gardena-2000-gmc-sierra-3500-chevy/7239948479.html', 'price': '$19,500', 'city': 'denver'}, {'vin': '1GDKC34J7YF421500', 'odometer': '46457', 'color': 'white', 'web address': 'https://denver.craigslist.org/ctd/d/gardena-2000-gmc-sierra-3500-chevy/7239948479.html', 'price': '$19,500', 'city': 'denver'}, {'vin': '1GDKC34J7YF421500', 'odometer': '46457', 'color': 'white', 'web address': 'https://denver.craigslist.org/ctd/d/gardena-2000-gmc-sierra-3500-chevy/7239948479.html', 'price': '$19,500', 'city': 'denver'}, {'vin': '1GDKC34J7YF421500', 'odometer': '46457', 'color': 'white', 'web address': 'https://denver.craigslist.org/ctd/d/gardena-2000-gmc-sierra-3500-chevy/7239948479.html', 'price': '$19,500', 'city': 'denver'}, {'vin': '1GDKC34J7YF421500', 'odometer': '46457', 'color': 'white', 'web address': 'https://denver.craigslist.org/ctd/d/gardena-2000-gmc-sierra-3500-chevy/7239948479.html', 'price': '$19,500', 'city': 'denver'}, {'vin': '1GDKC34J7YF421500', 'odometer': '46457', 'color': 'white', 'web address': 'https://denver.craigslist.org/ctd/d/gardena-2000-gmc-sierra-3500-chevy/7239948479.html', 'price': '$19,500', 'city': 'denver'}, {'vin': '1GDKC34J7YF421500', 'odometer': '46457', 'color': 'white', 'web address': 'https://denver.craigslist.org/ctd/d/gardena-2000-gmc-sierra-3500-chevy/7239948479.html', 'price': '$19,500', 'city': 'denver'}, {'vin': '1GDKC34J7YF421500', 'odometer': '46457', 'color': 'white', 'web address': 'https://denver.craigslist.org/ctd/d/gardena-2000-gmc-sierra-3500-chevy/7239948479.html', 'price': '$19,500', 'city': 'denver'}, {'vin': '1GDKC34J7YF421500', 'odometer': '46457', 'color': 'white', 'web address': 'https://denver.craigslist.org/ctd/d/gardena-2000-gmc-sierra-3500-chevy/7239948479.html', 'price': '$19,500', 'city': 'denver'}, {'vin': '1GDKC34J7YF421500', 'odometer': '46457', 'color': 'white', 'web address': 'https://denver.craigslist.org/ctd/d/gardena-2000-gmc-sierra-3500-chevy/7239948479.html', 'price': '$19,500', 'city': 'denver'}, {'vin': '1GDKC34J7YF421500', 'odometer': '46457', 'color': 'white', 'web address': 'https://denver.craigslist.org/ctd/d/gardena-2000-gmc-sierra-3500-chevy/7239948479.html', 'price': '$19,500', 'city': 'denver'}, {'vin': '1GDKC34J7YF421500', 'odometer': '46457', 'color': 'white', 'web address': 'https://denver.craigslist.org/ctd/d/gardena-2000-gmc-sierra-3500-chevy/7239948479.html', 'price': '$19,500', 'city': 'denver'}, {'vin': '1GDKC34J7YF421500', 'odometer': '46457', 'color': 'white', 'web address': 'https://denver.craigslist.org/ctd/d/gardena-2000-gmc-sierra-3500-chevy/7239948479.html', 'price': '$19,500', 'city': 'denver'}, {'vin': '1GDKC34J7YF421500', 'odometer': '46457', 'color': 'white', 'web address': 'https://denver.craigslist.org/ctd/d/gardena-2000-gmc-sierra-3500-chevy/7239948479.html', 'price': '$19,500', 'city': 'denver'}, {'vin': '1GDKC34J7YF421500', 'odometer': '46457', 'color': 'white', 'web address': 'https://denver.craigslist.org/ctd/d/gardena-2000-gmc-sierra-3500-chevy/7239948479.html', 'price': '$19,500', 'city': 'denver'}, {'vin': '1GDKC34J7YF421500', 'odometer': '46457', 'color': 'white', 'web address': 'https://denver.craigslist.org/ctd/d/gardena-2000-gmc-sierra-3500-chevy/7239948479.html', 'price': '$19,500', 'city': 'denver'}, {'vin': '1GDKC34J7YF421500', 'odometer': '46457', 'color': 'white', 'web address': 'https://denver.craigslist.org/ctd/d/gardena-2000-gmc-sierra-3500-chevy/7239948479.html', 'price': '$19,500', 'city': 'denver'}, {'vin': '1GDKC34J7YF421500', 'odometer': '46457', 'color': 'white', 'web address': 'https://denver.craigslist.org/ctd/d/gardena-2000-gmc-sierra-3500-chevy/7239948479.html', 'price': '$19,500', 'city': 'denver'}, {'vin': '1GDKC34J7YF421500', 'odometer': '46457', 'color': 'white', 'web address': 'https://denver.craigslist.org/ctd/d/gardena-2000-gmc-sierra-3500-chevy/7239948479.html', 'price': '$19,500', 'city': 'denver'}, {'vin': '1GDKC34J7YF421500', 'odometer': '46457', 'color': 'white', 'web address': 'https://denver.craigslist.org/ctd/d/gardena-2000-gmc-sierra-3500-chevy/7239948479.html', 'price': '$19,500', 'city': 'denver'}, {'vin': '1GDKC34J7YF421500', 'odometer': '46457', 'color': 'white', 'web address': 'https://denver.craigslist.org/ctd/d/gardena-2000-gmc-sierra-3500-chevy/7239948479.html', 'price': '$19,500', 'city': 'denver'}, {'vin': '1GDKC34J7YF421500', 'odometer': '46457', 'color': 'white', 'web address': 'https://denver.craigslist.org/ctd/d/gardena-2000-gmc-sierra-3500-chevy/7239948479.html', 'price': '$19,500', 'city': 'denver'}, {'vin': '1GDKC34J7YF421500', 'odometer': '46457', 'color': 'white', 'web address': 'https://denver.craigslist.org/ctd/d/gardena-2000-gmc-sierra-3500-chevy/7239948479.html', 'price': '$19,500', 'city': 'denver'}, {'vin': '1GDKC34J7YF421500', 'odometer': '46457', 'color': 'white', 'web address': 'https://denver.craigslist.org/ctd/d/gardena-2000-gmc-sierra-3500-chevy/7239948479.html', 'price': '$19,500', 'city': 'denver'}, {'vin': '1GDKC34J7YF421500', 'odometer': '46457', 'color': 'white', 'web address': 'https://denver.craigslist.org/ctd/d/gardena-2000-gmc-sierra-3500-chevy/7239948479.html', 'price': '$19,500', 'city': 'denver'}, {'vin': '1GDKC34J7YF421500', 'odometer': '46457', 'color': 'white', 'web address': 'https://denver.craigslist.org/ctd/d/gardena-2000-gmc-sierra-3500-chevy/7239948479.html', 'price': '$19,500', 'city': 'denver'}, {'vin': '1GDKC34J7YF421500', 'odometer': '46457', 'color': 'white', 'web address': 'https://denver.craigslist.org/ctd/d/gardena-2000-gmc-sierra-3500-chevy/7239948479.html', 'price': '$19,500', 'city': 'denver'}, {'vin': '1GDKC34J7YF421500', 'odometer': '46457', 'color': 'white', 'web address': 'https://denver.craigslist.org/ctd/d/gardena-2000-gmc-sierra-3500-chevy/7239948479.html', 'price': '$19,500', 'city': 'denver'}, {'vin': '1GDKC34J7YF421500', 'odometer': '46457', 'color': 'white', 'web address': 'https://denver.craigslist.org/ctd/d/gardena-2000-gmc-sierra-3500-chevy/7239948479.html', 'price': '$19,500', 'city': 'denver'}, {'vin': '1GDKC34J7YF421500', 'odometer': '46457', 'color': 'white', 'web address': 'https://denver.craigslist.org/ctd/d/gardena-2000-gmc-sierra-3500-chevy/7239948479.html', 'price': '$19,500', 'city': 'denver'}, {'vin': '1GDKC34J7YF421500', 'odometer': '46457', 'color': 'white', 'web address': 'https://denver.craigslist.org/ctd/d/gardena-2000-gmc-sierra-3500-chevy/7239948479.html', 'price': '$19,500', 'city': 'denver'}, {'vin': '1GDKC34J7YF421500', 'odometer': '46457', 'color': 'white', 'web address': 'https://denver.craigslist.org/ctd/d/gardena-2000-gmc-sierra-3500-chevy/7239948479.html', 'price': '$19,500', 'city': 'denver'}, {'vin': '1GDKC34J7YF421500', 'odometer': '46457', 'color': 'white', 'web address': 'https://denver.craigslist.org/ctd/d/gardena-2000-gmc-sierra-3500-chevy/7239948479.html', 'price': '$19,500', 'city': 'denver'}, {'vin': '1GDKC34J7YF421500', 'odometer': '46457', 'color': 'white', 'web address': 'https://denver.craigslist.org/ctd/d/gardena-2000-gmc-sierra-3500-chevy/7239948479.html', 'price': '$19,500', 'city': 'denver'}, {'vin': '1GDKC34J7YF421500', 'odometer': '46457', 'color': 'white', 'web address': 'https://denver.craigslist.org/ctd/d/gardena-2000-gmc-sierra-3500-chevy/7239948479.html', 'price': '$19,500', 'city': 'denver'}, {'vin': '1GDKC34J7YF421500', 'odometer': '46457', 'color': 'white', 'web address': 'https://denver.craigslist.org/ctd/d/gardena-2000-gmc-sierra-3500-chevy/7239948479.html', 'price': '$19,500', 'city': 'denver'}, {'vin': '1GDKC34J7YF421500', 'odometer': '46457', 'color': 'white', 'web address': 'https://denver.craigslist.org/ctd/d/gardena-2000-gmc-sierra-3500-chevy/7239948479.html', 'price': '$19,500', 'city': 'denver'}, {'vin': '1GDKC34J7YF421500', 'odometer': '46457', 'color': 'white', 'web address': 'https://denver.craigslist.org/ctd/d/gardena-2000-gmc-sierra-3500-chevy/7239948479.html', 'price': '$19,500', 'city': 'denver'}, {'vin': '1GDKC34J7YF421500', 'odometer': '46457', 'color': 'white', 'web address': 'https://denver.craigslist.org/ctd/d/gardena-2000-gmc-sierra-3500-chevy/7239948479.html', 'price': '$19,500', 'city': 'denver'}, {'vin': '1GDKC34J7YF421500', 'odometer': '46457', 'color': 'white', 'web address': 'https://denver.craigslist.org/ctd/d/gardena-2000-gmc-sierra-3500-chevy/7239948479.html', 'price': '$19,500', 'city': 'denver'}, {'vin': '1GDKC34J7YF421500', 'odometer': '46457', 'color': 'white', 'web address': 'https://denver.craigslist.org/ctd/d/gardena-2000-gmc-sierra-3500-chevy/7239948479.html', 'price': '$19,500', 'city': 'denver'}, {'vin': '1GDKC34J7YF421500', 'odometer': '46457', 'color': 'white', 'web address': 'https://denver.craigslist.org/ctd/d/gardena-2000-gmc-sierra-3500-chevy/7239948479.html', 'price': '$19,500', 'city': 'denver'}, {'vin': '1GDKC34J7YF421500', 'odometer': '46457', 'color': 'white', 'web address': 'https://denver.craigslist.org/ctd/d/gardena-2000-gmc-sierra-3500-chevy/7239948479.html', 'price': '$19,500', 'city': 'denver'}, {'vin': '1GDKC34J7YF421500', 'odometer': '46457', 'color': 'white', 'web address': 'https://denver.craigslist.org/ctd/d/gardena-2000-gmc-sierra-3500-chevy/7239948479.html', 'price': '$19,500', 'city': 'denver'}, {'vin': '1GDKC34J7YF421500', 'odometer': '46457', 'color': 'white', 'web address': 'https://denver.craigslist.org/ctd/d/gardena-2000-gmc-sierra-3500-chevy/7239948479.html', 'price': '$19,500', 'city': 'denver'}, {'vin': '1GDKC34J7YF421500', 'odometer': '46457', 'color': 'white', 'web address': 'https://denver.craigslist.org/ctd/d/gardena-2000-gmc-sierra-3500-chevy/7239948479.html', 'price': '$19,500', 'city': 'denver'}, {'vin': '1GDKC34J7YF421500', 'odometer': '46457', 'color': 'white', 'web address': 'https://denver.craigslist.org/ctd/d/gardena-2000-gmc-sierra-3500-chevy/7239948479.html', 'price': '$19,500', 'city': 'denver'}, {'vin': '1GDKC34J7YF421500', 'odometer': '46457', 'color': 'white', 'web address': 'https://denver.craigslist.org/ctd/d/gardena-2000-gmc-sierra-3500-chevy/7239948479.html', 'price': '$19,500', 'city': 'denver'}, {'vin': '1GDKC34J7YF421500', 'odometer': '46457', 'color': 'white', 'web address': 'https://denver.craigslist.org/ctd/d/gardena-2000-gmc-sierra-3500-chevy/7239948479.html', 'price': '$19,500', 'city': 'denver'}, {'vin': '1GDKC34J7YF421500', 'odometer': '46457', 'color': 'white', 'web address': 'https://denver.craigslist.org/ctd/d/gardena-2000-gmc-sierra-3500-chevy/7239948479.html', 'price': '$19,500', 'city': 'denver'}, {'vin': '1GDKC34J7YF421500', 'odometer': '46457', 'color': 'white', 'web address': 'https://denver.craigslist.org/ctd/d/gardena-2000-gmc-sierra-3500-chevy/7239948479.html', 'price': '$19,500', 'city': 'denver'}, {'vin': '1GDKC34J7YF421500', 'odometer': '46457', 'color': 'white', 'web address': 'https://denver.craigslist.org/ctd/d/gardena-2000-gmc-sierra-3500-chevy/7239948479.html', 'price': '$19,500', 'city': 'denver'}, {'vin': '1GDKC34J7YF421500', 'odometer': '46457', 'color': 'white', 'web address': 'https://denver.craigslist.org/ctd/d/gardena-2000-gmc-sierra-3500-chevy/7239948479.html', 'price': '$19,500', 'city': 'denver'}, {'vin': '1GDKC34J7YF421500', 'odometer': '46457', 'color': 'white', 'web address': 'https://denver.craigslist.org/ctd/d/gardena-2000-gmc-sierra-3500-chevy/7239948479.html', 'price': '$19,500', 'city': 'denver'}, {'vin': '1GDKC34J7YF421500', 'odometer': '46457', 'color': 'white', 'web address': 'https://denver.craigslist.org/ctd/d/gardena-2000-gmc-sierra-3500-chevy/7239948479.html', 'price': '$19,500', 'city': 'denver'}, {'vin': '1GDKC34J7YF421500', 'odometer': '46457', 'color': 'white', 'web address': 'https://denver.craigslist.org/ctd/d/gardena-2000-gmc-sierra-3500-chevy/7239948479.html', 'price': '$19,500', 'city': 'denver'}, {'vin': '1GDKC34J7YF421500', 'odometer': '46457', 'color': 'white', 'web address': 'https://denver.craigslist.org/ctd/d/gardena-2000-gmc-sierra-3500-chevy/7239948479.html', 'price': '$19,500', 'city': 'denver'}, {'vin': '1GDKC34J7YF421500', 'odometer': '46457', 'color': 'white', 'web address': 'https://denver.craigslist.org/ctd/d/gardena-2000-gmc-sierra-3500-chevy/7239948479.html', 'price': '$19,500', 'city': 'denver'}, {'vin': '1GDKC34J7YF421500', 'odometer': '46457', 'color': 'white', 'web address': 'https://denver.craigslist.org/ctd/d/gardena-2000-gmc-sierra-3500-chevy/7239948479.html', 'price': '$19,500', 'city': 'denver'}, {'vin': '1GDKC34J7YF421500', 'odometer': '46457', 'color': 'white', 'web address': 'https://denver.craigslist.org/ctd/d/gardena-2000-gmc-sierra-3500-chevy/7239948479.html', 'price': '$19,500', 'city': 'denver'}, {'vin': '1GDKC34J7YF421500', 'odometer': '46457', 'color': 'white', 'web address': 'https://denver.craigslist.org/ctd/d/gardena-2000-gmc-sierra-3500-chevy/7239948479.html', 'price': '$19,500', 'city': 'denver'}, {'vin': '1GDKC34J7YF421500', 'odometer': '46457', 'color': 'white', 'web address': 'https://denver.craigslist.org/ctd/d/gardena-2000-gmc-sierra-3500-chevy/7239948479.html', 'price': '$19,500', 'city': 'denver'}, {'vin': '1GDKC34J7YF421500', 'odometer': '46457', 'color': 'white', 'web address': 'https://denver.craigslist.org/ctd/d/gardena-2000-gmc-sierra-3500-chevy/7239948479.html', 'price': '$19,500', 'city': 'denver'}, {'vin': '1GDKC34J7YF421500', 'odometer': '46457', 'color': 'white', 'web address': 'https://denver.craigslist.org/ctd/d/gardena-2000-gmc-sierra-3500-chevy/7239948479.html', 'price': '$19,500', 'city': 'denver'}, {'vin': '1GDKC34J7YF421500', 'odometer': '46457', 'color': 'white', 'web address': 'https://denver.craigslist.org/ctd/d/gardena-2000-gmc-sierra-3500-chevy/7239948479.html', 'price': '$19,500', 'city': 'denver'}, {'vin': '1GDKC34J7YF421500', 'odometer': '46457', 'color': 'white', 'web address': 'https://denver.craigslist.org/ctd/d/gardena-2000-gmc-sierra-3500-chevy/7239948479.html', 'price': '$19,500', 'city': 'denver'}, {'vin': '1GDKC34J7YF421500', 'odometer': '46457', 'color': 'white', 'web address': 'https://denver.craigslist.org/ctd/d/gardena-2000-gmc-sierra-3500-chevy/7239948479.html', 'price': '$19,500', 'city': 'denver'}, {'vin': '1GDKC34J7YF421500', 'odometer': '46457', 'color': 'white', 'web address': 'https://denver.craigslist.org/ctd/d/gardena-2000-gmc-sierra-3500-chevy/7239948479.html', 'price': '$19,500', 'city': 'denver'}, {'vin': '1GDKC34J7YF421500', 'odometer': '46457', 'color': 'white', 'web address': 'https://denver.craigslist.org/ctd/d/gardena-2000-gmc-sierra-3500-chevy/7239948479.html', 'price': '$19,500', 'city': 'denver'}, {'vin': '1GDKC34J7YF421500', 'odometer': '46457', 'color': 'white', 'web address': 'https://denver.craigslist.org/ctd/d/gardena-2000-gmc-sierra-3500-chevy/7239948479.html', 'price': '$19,500', 'city': 'denver'}, {'vin': '1GDKC34J7YF421500', 'odometer': '46457', 'color': 'white', 'web address': 'https://denver.craigslist.org/ctd/d/gardena-2000-gmc-sierra-3500-chevy/7239948479.html', 'price': '$19,500', 'city': 'denver'}, {'vin': '1GDKC34J7YF421500', 'odometer': '46457', 'color': 'white', 'web address': 'https://denver.craigslist.org/ctd/d/gardena-2000-gmc-sierra-3500-chevy/7239948479.html', 'price': '$19,500', 'city': 'denver'}, {'vin': '1GDKC34J7YF421500', 'odometer': '46457', 'color': 'white', 'web address': 'https://denver.craigslist.org/ctd/d/gardena-2000-gmc-sierra-3500-chevy/7239948479.html', 'price': '$19,500', 'city': 'denver'}, {'vin': '1GDKC34J7YF421500', 'odometer': '46457', 'color': 'white', 'web address': 'https://denver.craigslist.org/ctd/d/gardena-2000-gmc-sierra-3500-chevy/7239948479.html', 'price': '$19,500', 'city': 'denver'}, {'vin': '1GDKC34J7YF421500', 'odometer': '46457', 'color': 'white', 'web address': 'https://denver.craigslist.org/ctd/d/gardena-2000-gmc-sierra-3500-chevy/7239948479.html', 'price': '$19,500', 'city': 'denver'}, {'vin': '1GDKC34J7YF421500', 'odometer': '46457', 'color': 'white', 'web address': 'https://denver.craigslist.org/ctd/d/gardena-2000-gmc-sierra-3500-chevy/7239948479.html', 'price': '$19,500', 'city': 'denver'}, {'vin': '1GDKC34J7YF421500', 'odometer': '46457', 'color': 'white', 'web address': 'https://denver.craigslist.org/ctd/d/gardena-2000-gmc-sierra-3500-chevy/7239948479.html', 'price': '$19,500', 'city': 'denver'}, {'vin': '1GDKC34J7YF421500', 'odometer': '46457', 'color': 'white', 'web address': 'https://denver.craigslist.org/ctd/d/gardena-2000-gmc-sierra-3500-chevy/7239948479.html', 'price': '$19,500', 'city': 'denver'}, {'vin': '1GDKC34J7YF421500', 'odometer': '46457', 'color': 'white', 'web address': 'https://denver.craigslist.org/ctd/d/gardena-2000-gmc-sierra-3500-chevy/7239948479.html', 'price': '$19,500', 'city': 'denver'}]\n"
     ]
    }
   ],
   "source": [
    "print(list_of_vans)"
   ]
  },
  {
   "cell_type": "code",
   "execution_count": 28,
   "metadata": {},
   "outputs": [
    {
     "name": "stdout",
     "output_type": "stream",
     "text": [
      "92\n",
      "92\n",
      "92\n",
      "92\n",
      "92\n",
      "92\n"
     ]
    }
   ],
   "source": [
    "print(len(price))\n",
    "print(len(city))\n",
    "print(len(web_address))\n",
    "print(len(color))\n",
    "print(len(vin))\n",
    "print(len(odometer))"
   ]
  },
  {
   "cell_type": "code",
   "execution_count": 29,
   "metadata": {},
   "outputs": [
    {
     "name": "stdout",
     "output_type": "stream",
     "text": [
      "<class 'pandas.core.frame.DataFrame'>\n",
      "RangeIndex: 92 entries, 0 to 91\n",
      "Data columns (total 6 columns):\n",
      "vin            83 non-null object\n",
      "price          92 non-null object\n",
      "odometer       92 non-null object\n",
      "city           92 non-null object\n",
      "web address    92 non-null object\n",
      "color          92 non-null object\n",
      "dtypes: object(6)\n",
      "memory usage: 4.4+ KB\n",
      "None\n"
     ]
    },
    {
     "data": {
      "text/html": [
       "<div>\n",
       "<style scoped>\n",
       "    .dataframe tbody tr th:only-of-type {\n",
       "        vertical-align: middle;\n",
       "    }\n",
       "\n",
       "    .dataframe tbody tr th {\n",
       "        vertical-align: top;\n",
       "    }\n",
       "\n",
       "    .dataframe thead th {\n",
       "        text-align: right;\n",
       "    }\n",
       "</style>\n",
       "<table border=\"1\" class=\"dataframe\">\n",
       "  <thead>\n",
       "    <tr style=\"text-align: right;\">\n",
       "      <th></th>\n",
       "      <th>vin</th>\n",
       "      <th>price</th>\n",
       "      <th>odometer</th>\n",
       "      <th>city</th>\n",
       "      <th>web address</th>\n",
       "      <th>color</th>\n",
       "    </tr>\n",
       "  </thead>\n",
       "  <tbody>\n",
       "    <tr>\n",
       "      <th>0</th>\n",
       "      <td>3C6TRVDG8KE512355</td>\n",
       "      <td>$38,593</td>\n",
       "      <td>32701</td>\n",
       "      <td>seattle</td>\n",
       "      <td>https://seattle.craigslist.org/tac/ctd/d/tacom...</td>\n",
       "      <td>white</td>\n",
       "    </tr>\n",
       "    <tr>\n",
       "      <th>1</th>\n",
       "      <td>3C6TRVDG3KE535493</td>\n",
       "      <td>$38,993</td>\n",
       "      <td>26144</td>\n",
       "      <td>seattle</td>\n",
       "      <td>https://seattle.craigslist.org/tac/ctd/d/tacom...</td>\n",
       "      <td>white</td>\n",
       "    </tr>\n",
       "    <tr>\n",
       "      <th>2</th>\n",
       "      <td>3C6TRVDGXKE554347</td>\n",
       "      <td>$37,993</td>\n",
       "      <td>43139</td>\n",
       "      <td>seattle</td>\n",
       "      <td>https://seattle.craigslist.org/tac/ctd/d/tacom...</td>\n",
       "      <td>white</td>\n",
       "    </tr>\n",
       "    <tr>\n",
       "      <th>3</th>\n",
       "      <td>3C6TRVDG1JE119831</td>\n",
       "      <td>$28,993</td>\n",
       "      <td>97409</td>\n",
       "      <td>seattle</td>\n",
       "      <td>https://seattle.craigslist.org/tac/ctd/d/tacom...</td>\n",
       "      <td>white</td>\n",
       "    </tr>\n",
       "    <tr>\n",
       "      <th>4</th>\n",
       "      <td>3C6TRVDG7KE513142</td>\n",
       "      <td>$38,993</td>\n",
       "      <td>12582</td>\n",
       "      <td>seattle</td>\n",
       "      <td>https://seattle.craigslist.org/tac/ctd/d/tacom...</td>\n",
       "      <td>white</td>\n",
       "    </tr>\n",
       "    <tr>\n",
       "      <th>5</th>\n",
       "      <td>3C6TRVCG3HE526285</td>\n",
       "      <td>$34,993</td>\n",
       "      <td>13671</td>\n",
       "      <td>seattle</td>\n",
       "      <td>https://seattle.craigslist.org/tac/ctd/d/tacom...</td>\n",
       "      <td>white</td>\n",
       "    </tr>\n",
       "    <tr>\n",
       "      <th>6</th>\n",
       "      <td>3C6TRVDG1JE119831</td>\n",
       "      <td>$28,993</td>\n",
       "      <td>97409</td>\n",
       "      <td>seattle</td>\n",
       "      <td>https://seattle.craigslist.org/tac/ctd/d/tacom...</td>\n",
       "      <td>white</td>\n",
       "    </tr>\n",
       "    <tr>\n",
       "      <th>7</th>\n",
       "      <td>3C6TRVDG7KE513142</td>\n",
       "      <td>$38,993</td>\n",
       "      <td>12582</td>\n",
       "      <td>seattle</td>\n",
       "      <td>https://seattle.craigslist.org/tac/ctd/d/tacom...</td>\n",
       "      <td>white</td>\n",
       "    </tr>\n",
       "    <tr>\n",
       "      <th>8</th>\n",
       "      <td>3C6TRVCG3HE526285</td>\n",
       "      <td>$34,993</td>\n",
       "      <td>13671</td>\n",
       "      <td>seattle</td>\n",
       "      <td>https://seattle.craigslist.org/tac/ctd/d/tacom...</td>\n",
       "      <td>white</td>\n",
       "    </tr>\n",
       "    <tr>\n",
       "      <th>9</th>\n",
       "      <td>1FTNE1CM6FKA91641</td>\n",
       "      <td>$25,000</td>\n",
       "      <td>47297</td>\n",
       "      <td>seattle</td>\n",
       "      <td>https://seattle.craigslist.org/see/ctd/d/garde...</td>\n",
       "      <td>white</td>\n",
       "    </tr>\n",
       "  </tbody>\n",
       "</table>\n",
       "</div>"
      ],
      "text/plain": [
       "                 vin    price odometer     city  \\\n",
       "0  3C6TRVDG8KE512355  $38,593    32701  seattle   \n",
       "1  3C6TRVDG3KE535493  $38,993    26144  seattle   \n",
       "2  3C6TRVDGXKE554347  $37,993    43139  seattle   \n",
       "3  3C6TRVDG1JE119831  $28,993    97409  seattle   \n",
       "4  3C6TRVDG7KE513142  $38,993    12582  seattle   \n",
       "5  3C6TRVCG3HE526285  $34,993    13671  seattle   \n",
       "6  3C6TRVDG1JE119831  $28,993    97409  seattle   \n",
       "7  3C6TRVDG7KE513142  $38,993    12582  seattle   \n",
       "8  3C6TRVCG3HE526285  $34,993    13671  seattle   \n",
       "9  1FTNE1CM6FKA91641  $25,000    47297  seattle   \n",
       "\n",
       "                                         web address  color  \n",
       "0  https://seattle.craigslist.org/tac/ctd/d/tacom...  white  \n",
       "1  https://seattle.craigslist.org/tac/ctd/d/tacom...  white  \n",
       "2  https://seattle.craigslist.org/tac/ctd/d/tacom...  white  \n",
       "3  https://seattle.craigslist.org/tac/ctd/d/tacom...  white  \n",
       "4  https://seattle.craigslist.org/tac/ctd/d/tacom...  white  \n",
       "5  https://seattle.craigslist.org/tac/ctd/d/tacom...  white  \n",
       "6  https://seattle.craigslist.org/tac/ctd/d/tacom...  white  \n",
       "7  https://seattle.craigslist.org/tac/ctd/d/tacom...  white  \n",
       "8  https://seattle.craigslist.org/tac/ctd/d/tacom...  white  \n",
       "9  https://seattle.craigslist.org/see/ctd/d/garde...  white  "
      ]
     },
     "execution_count": 29,
     "metadata": {},
     "output_type": "execute_result"
    }
   ],
   "source": [
    "# Create Pandas Database with Van Statistics\n",
    "van_statistics = pd.DataFrame({'vin': vin,\n",
    "                              'price': price,\n",
    "                              'odometer': odometer,\n",
    "                              'city': city,\n",
    "                              'web address': web_address,\n",
    "                              'color': color})\n",
    "print(van_statistics.info())\n",
    "van_statistics.head(10)"
   ]
  },
  {
   "cell_type": "code",
   "execution_count": 30,
   "metadata": {},
   "outputs": [],
   "source": [
    "van_statistics.to_csv('van_stats.csv')"
   ]
  },
  {
   "cell_type": "code",
   "execution_count": null,
   "metadata": {},
   "outputs": [],
   "source": []
  }
 ],
 "metadata": {
  "kernelspec": {
   "display_name": "Python 3",
   "language": "python",
   "name": "python3"
  },
  "language_info": {
   "codemirror_mode": {
    "name": "ipython",
    "version": 3
   },
   "file_extension": ".py",
   "mimetype": "text/x-python",
   "name": "python",
   "nbconvert_exporter": "python",
   "pygments_lexer": "ipython3",
   "version": "3.7.3"
  }
 },
 "nbformat": 4,
 "nbformat_minor": 2
}
