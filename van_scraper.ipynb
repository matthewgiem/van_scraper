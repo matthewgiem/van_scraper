{
 "cells": [
  {
   "cell_type": "code",
   "execution_count": 1,
   "metadata": {},
   "outputs": [],
   "source": [
    "from requests import get\n",
    "from bs4 import BeautifulSoup"
   ]
  },
  {
   "cell_type": "code",
   "execution_count": 22,
   "metadata": {},
   "outputs": [],
   "source": [
    "# Areas to look for vans\n",
    "areas = ['seattle', 'portland', 'boulder', 'denver']\n",
    "# Min and Max Price\n",
    "price_min = 10000\n",
    "price_max = 40000\n",
    "# Keywords in search\n",
    "search_keywords = 'promaster+high+roof'\n",
    "# Max Milage for van\n",
    "milage = 150000\n",
    "# We are only looking for CLEAN titles\n",
    "title = 1\n",
    "# Dictionary of vans key will be the Vin\n",
    "van_list = dict()"
   ]
  },
  {
   "cell_type": "code",
   "execution_count": 4,
   "metadata": {},
   "outputs": [],
   "source": [
    "seattle_URL = 'https://{}.craigslist.org/search/cta?query={}&sort=rel&min_price={}&max_price={}&max_auto_miles={}&auto_title_status=1'.format(areas[0], search_keywords, price_min, price_max, milage, title)\n",
    "seattle_response = get(seattle_URL)\n",
    "soup = BeautifulSoup(seattle_response.text, 'html.parser')\n",
    "posts = soup.find_all('li', class_= 'result-row')"
   ]
  },
  {
   "cell_type": "code",
   "execution_count": 47,
   "metadata": {},
   "outputs": [
    {
     "data": {
      "text/plain": [
       "'https://seattle.craigslist.org/search/cta?query=promaster+high+roof&sort=rel&min_price=10000&max_price=40000&max_auto_miles=150000&auto_title_status=1'"
      ]
     },
     "execution_count": 47,
     "metadata": {},
     "output_type": "execute_result"
    }
   ],
   "source": [
    "seattle_URL"
   ]
  },
  {
   "cell_type": "code",
   "execution_count": 5,
   "metadata": {},
   "outputs": [
    {
     "data": {
      "text/plain": [
       "<li class=\"result-row\" data-pid=\"7251135314\">\n",
       "<a class=\"result-image gallery\" data-ids=\"3:00x0x_dzYFcCAoblV_0ak07P,3:00T0T_ekf6RCCVpYu_0ak07R,3:00l0l_bbSg194FC14_0ak07J,3:01212_8p7Okt65cyv_0ak07D,3:00P0P_cbLKWv3utVo_0ak07K,3:00g0g_ahgJbsZpmuJ_0ak084\" href=\"https://seattle.craigslist.org/tac/ctd/d/tacoma-2018-ram-promaster-cargo-van/7251135314.html\">\n",
       "<span class=\"result-price\">$28,993</span>\n",
       "</a>\n",
       "<div class=\"result-info\">\n",
       "<span class=\"icon icon-star\" role=\"button\">\n",
       "<span class=\"screen-reader-text\">favorite this post</span>\n",
       "</span>\n",
       "<time class=\"result-date\" datetime=\"2020-12-22 11:02\" title=\"Tue 22 Dec 11:02:49 AM\">Dec 22</time>\n",
       "<h3 class=\"result-heading\">\n",
       "<a class=\"result-title hdrlnk\" data-id=\"7251135314\" href=\"https://seattle.craigslist.org/tac/ctd/d/tacoma-2018-ram-promaster-cargo-van/7251135314.html\" id=\"postid_7251135314\">2018 Ram ProMaster Cargo Van High Roof Van ProMaster Cargo Van Ram</a>\n",
       "</h3>\n",
       "<span class=\"result-meta\">\n",
       "<span class=\"result-price\">$28,993</span>\n",
       "<span class=\"result-hood\"> (2018 Ram ProMaster Cargo Van High Roof)</span>\n",
       "<span class=\"result-tags\">\n",
       "<span class=\"pictag\">pic</span>\n",
       "</span>\n",
       "<span class=\"banish icon icon-trash\" role=\"button\">\n",
       "<span class=\"screen-reader-text\">hide this posting</span>\n",
       "</span>\n",
       "<span aria-hidden=\"true\" class=\"unbanish icon icon-trash red\" role=\"button\"></span>\n",
       "<a class=\"restore-link\" href=\"#\">\n",
       "<span class=\"restore-narrow-text\">restore</span>\n",
       "<span class=\"restore-wide-text\">restore this posting</span>\n",
       "</a>\n",
       "</span>\n",
       "</div>\n",
       "</li>"
      ]
     },
     "execution_count": 5,
     "metadata": {},
     "output_type": "execute_result"
    }
   ],
   "source": [
    "posts[0]"
   ]
  },
  {
   "cell_type": "code",
   "execution_count": 6,
   "metadata": {},
   "outputs": [
    {
     "name": "stdout",
     "output_type": "stream",
     "text": [
      "https://seattle.craigslist.org/tac/ctd/d/tacoma-2018-ram-promaster-cargo-van/7251135314.html\n",
      "2018 Ram ProMaster Cargo Van High Roof Van ProMaster Cargo Van Ram\n",
      "$28,993\n"
     ]
    }
   ],
   "source": [
    "for post in posts:\n",
    "    post_url = post.a['href']\n",
    "    post_title = post.find('a', class_='result-title hdrlnk')\n",
    "    post_price = post.find('span', class_='result-price')\n",
    "    print(post_url.strip())\n",
    "    print(post_title.text.strip())\n",
    "    print(post_price.text.strip())\n",
    "    break\n",
    "    "
   ]
  },
  {
   "cell_type": "code",
   "execution_count": 50,
   "metadata": {},
   "outputs": [
    {
     "name": "stdout",
     "output_type": "stream",
     "text": [
      "{'price': '$28,993', 'odometer': '97409', 'vin': '3C6TRVDG1JE119831', 'web address': 'https://seattle.craigslist.org/tac/ctd/d/tacoma-2018-ram-promaster-cargo-van/7251135314.html', 'city': 'Seattle', 'color': 'white'}\n"
     ]
    }
   ],
   "source": [
    "for post in posts:\n",
    "    van_attr = dict()\n",
    "    key_attr = ['price','odometer', 'vin', 'web address', 'city', 'color']\n",
    "    for i in key_attr:\n",
    "        van_attr[i] = None\n",
    "    post_url = post.a['href']\n",
    "    van_page = get(post_url)\n",
    "    van_soup = BeautifulSoup(van_page.text, 'html.parser')\n",
    "    van_data = van_soup.find_all('span', {'class' : None})\n",
    "    for data in van_data:\n",
    "        if data.text.split(':')[0].strip() == 'VIN':\n",
    "            van_attr['vin'] = data.text.split(':')[1].strip()\n",
    "        if data.text.split(':')[0].strip() == 'odometer':\n",
    "                van_attr['odometer'] = data.text.split(':')[1].strip()\n",
    "        if data.text.split(':')[0].strip() == 'paint color':\n",
    "            van_attr['color'] = data.text.split(':')[1].strip()\n",
    "    van_attr['web address'] = post_url\n",
    "    van_attr['price'] = post.find('span', class_='result-price').text.strip()\n",
    "    van_attr['city'] = 'Seattle'\n",
    "    print(van_attr)\n",
    "    break"
   ]
  },
  {
   "cell_type": "code",
   "execution_count": 28,
   "metadata": {},
   "outputs": [
    {
     "name": "stdout",
     "output_type": "stream",
     "text": [
      "Found the URL: https://seattle.craigslist.org/tac/ctd/d/tacoma-2018-ram-promaster-cargo-van/7251135314.html\n",
      "The Price is: $28,993\n",
      "Found the URL: https://seattle.craigslist.org/tac/ctd/d/tacoma-2019-ram-promaster-cargo-van/7248155831.html\n",
      "The Price is: $38,993\n",
      "Found the URL: https://seattle.craigslist.org/tac/ctd/d/tacoma-2017-ram-promaster-cargo-van/7244975246.html\n",
      "The Price is: $34,993\n",
      "Found the URL: https://seattle.craigslist.org/tac/ctd/d/tacoma-2018-ram-promaster-cargo-van/7243847347.html\n",
      "The Price is: $28,993\n",
      "Found the URL: https://seattle.craigslist.org/see/ctd/d/gardena-2015-ford-transit-150-cargo-van/7250844055.html\n",
      "The Price is: $25,000\n",
      "Found the URL: https://seattle.craigslist.org/see/ctd/d/gardena-2015-ford-transit-150-cargo-van/7250838838.html\n",
      "The Price is: $24,800\n",
      "Found the URL: https://seattle.craigslist.org/tac/ctd/d/tacoma-2017-ram-promaster-cargo-van/7241686090.html\n",
      "The Price is: $34,993\n",
      "Found the URL: https://seattle.craigslist.org/tac/ctd/d/tacoma-2019-ram-promaster-cargo-van/7241665255.html\n",
      "The Price is: $38,993\n",
      "Found the URL: https://seattle.craigslist.org/see/ctd/d/gardena-2017-chevrolet-silverado-1500/7251089053.html\n",
      "The Price is: $27,500\n",
      "Found the URL: https://seattle.craigslist.org/sno/ctd/d/lynnwood-2019-ram-promaster-2500/7250124525.html\n",
      "The Price is: $34,995\n",
      "Found the URL: https://seattle.craigslist.org/est/ctd/d/beaverton-2011-ford-250-wheelchair-van/7249968168.html\n",
      "The Price is: $27,995\n",
      "Found the URL: https://seattle.craigslist.org/est/ctd/d/beaverton-2011-ford-250-wheelchair-van/7247397876.html\n",
      "The Price is: $27,995\n",
      "Found the URL: https://seattle.craigslist.org/see/ctd/d/gardena-2002-ford-ft-boom-bucket-van/7245052031.html\n",
      "The Price is: $12,500\n",
      "Found the URL: https://seattle.craigslist.org/see/ctd/d/gardena-2005-dodge-ram-x4-crew-cab-ft/7243962171.html\n",
      "The Price is: $25,000\n",
      "Found the URL: https://seattle.craigslist.org/see/ctd/d/renton-2015-ford-transit-150-cargo-van/7235512695.html\n",
      "The Price is: $22,995\n",
      "Found the URL: https://seattle.craigslist.org/see/ctd/d/gardena-2011-ford-f550-20ft-ton-moving/7241144247.html\n",
      "The Price is: $30,000\n",
      "Found the URL: https://seattle.craigslist.org/see/ctd/d/gardena-2013-chevrolet-express-seater/7241137520.html\n",
      "The Price is: $17,500\n",
      "Found the URL: https://seattle.craigslist.org/see/ctd/d/gardena-2011-ford-f150-pickup-truck-v6/7241128877.html\n",
      "The Price is: $12,500\n",
      "Found the URL: https://seattle.craigslist.org/see/ctd/d/gardena-2015-isuzu-npr-hd-16-ft-box/7241105772.html\n",
      "The Price is: $29,500\n",
      "Found the URL: https://seattle.craigslist.org/see/ctd/d/gardena-2000-gmc-sierra-3500-chevy/7239948497.html\n",
      "The Price is: $19,500\n",
      "Found the URL: https://seattle.craigslist.org/sno/ctd/d/lynnwood-2018-ford-transit-150-low-roof/7239380052.html\n",
      "The Price is: $22,800\n",
      "Found the URL: https://portland.craigslist.org/mlt/ctd/d/salem-2015-ram-promaster-cargo-high/7251249340.html\n",
      "The Price is: $33,995\n",
      "Found the URL: https://portland.craigslist.org/mlt/ctd/d/salem-2015-ram-promaster-cargo-high/7249312323.html\n",
      "The Price is: $33,995\n",
      "Found the URL: https://portland.craigslist.org/mlt/ctd/d/salem-2015-ram-promaster-cargo-high/7248177629.html\n",
      "The Price is: $33,995\n",
      "Found the URL: https://portland.craigslist.org/clk/ctd/d/tacoma-2019-ram-promaster-cargo-van/7244932463.html\n",
      "The Price is: $38,993\n",
      "Found the URL: https://portland.craigslist.org/mlt/ctd/d/salem-2015-ram-promaster-cargo-high/7244551535.html\n",
      "The Price is: $33,995\n",
      "Found the URL: https://portland.craigslist.org/clc/ctd/d/oregon-city-2016-nissan-2500-nv-hd-high/7250129873.html\n",
      "The Price is: $23,500\n",
      "Found the URL: https://portland.craigslist.org/clk/ctd/d/tacoma-2018-ram-promaster-cargo-van/7240663425.html\n",
      "The Price is: $28,993\n",
      "Found the URL: https://portland.craigslist.org/clk/ctd/d/tacoma-2017-ram-promaster-cargo-van/7237796099.html\n",
      "The Price is: $34,993\n",
      "Found the URL: https://portland.craigslist.org/wsc/ctd/d/beaverton-2011-ford-250-wheelchair-van/7249968167.html\n",
      "The Price is: $27,995\n",
      "Found the URL: https://portland.craigslist.org/wsc/ctd/d/beaverton-2011-ford-250-wheelchair-van/7247397600.html\n",
      "The Price is: $27,995\n",
      "Found the URL: https://portland.craigslist.org/clk/cto/d/longview-2002-volkswagen-eurovan-mv/7246571279.html\n",
      "The Price is: $11,000\n"
     ]
    }
   ],
   "source": [
    "for post in posts:\n",
    "    for a in post.find_all('a', href=True):\n",
    "        print(\"Found the URL:\", a['href'])\n",
    "        print(\"The Price is:\", a.text.strip())\n",
    "        break"
   ]
  },
  {
   "cell_type": "code",
   "execution_count": 29,
   "metadata": {},
   "outputs": [
    {
     "name": "stdout",
     "output_type": "stream",
     "text": [
      "https://seattle.craigslist.org/search/cta?query=promaster+high+roof&sort=rel&min_price=10000&max_price=40000&max_auto_miles=150000&auto_title_status=1\n",
      "https://portland.craigslist.org/search/cta?query=promaster+high+roof&sort=rel&min_price=10000&max_price=40000&max_auto_miles=150000&auto_title_status=1\n",
      "https://boulder.craigslist.org/search/cta?query=promaster+high+roof&sort=rel&min_price=10000&max_price=40000&max_auto_miles=150000&auto_title_status=1\n",
      "https://denver.craigslist.org/search/cta?query=promaster+high+roof&sort=rel&min_price=10000&max_price=40000&max_auto_miles=150000&auto_title_status=1\n"
     ]
    }
   ],
   "source": [
    "for city in areas:\n",
    "    look_up = 'https://{}.craigslist.org/search/cta?query={}&sort=rel&min_price={}&max_price={}&max_auto_miles={}&auto_title_status=1'.format(city, search_keywords, price_min, price_max, milage, title)\n",
    "    city_response = get(look_up)\n",
    "    html_soup = BeautifulSoup(city_response.text, 'html.parser')\n",
    "    posts = html_soup.find_all('li', class_= 'result-row')\n",
    "    print(look_up)\n",
    "    for post in posts:\n",
    "        break\n",
    "        for a in post.find_all('a', href=True):\n",
    "            print(\"Found the URL:\", a['href'])\n",
    "            print(\"The Price is:\", a.text.strip())\n",
    "            break"
   ]
  }
 ],
 "metadata": {
  "kernelspec": {
   "display_name": "Python 3",
   "language": "python",
   "name": "python3"
  },
  "language_info": {
   "codemirror_mode": {
    "name": "ipython",
    "version": 3
   },
   "file_extension": ".py",
   "mimetype": "text/x-python",
   "name": "python",
   "nbconvert_exporter": "python",
   "pygments_lexer": "ipython3",
   "version": "3.7.3"
  }
 },
 "nbformat": 4,
 "nbformat_minor": 2
}
